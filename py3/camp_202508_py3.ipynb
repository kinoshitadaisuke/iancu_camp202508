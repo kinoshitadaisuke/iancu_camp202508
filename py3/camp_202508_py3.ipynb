{
  "nbformat": 4,
  "nbformat_minor": 0,
  "metadata": {
    "colab": {
      "provenance": []
    },
    "kernelspec": {
      "name": "python3",
      "display_name": "Python 3"
    },
    "language_info": {
      "name": "python"
    }
  },
  "cells": [
    {
      "cell_type": "markdown",
      "source": [
        "# Summer camp for new students 2025\n",
        "\n",
        "## Introductory Python programming 3\n",
        "\n",
        "### --- Structure of the Milky Way Galaxy ---\n",
        "\n",
        "Instructor: Kinoshita Daisuke\n",
        "\n",
        "Date: 07 August 2025"
      ],
      "metadata": {
        "id": "16_pTneCbsRq"
      }
    },
    {
      "cell_type": "markdown",
      "source": [
        "## Downloading a set of sample Python scripts"
      ],
      "metadata": {
        "id": "zxLlVPpVeR4U"
      }
    },
    {
      "cell_type": "code",
      "source": [
        "# Run this cell to download a set of sample Python scripts.\n",
        "\n",
        "!git clone https://github.com/kinoshitadaisuke/iancu_camp202508.git"
      ],
      "metadata": {
        "id": "IVm097ExeVjk"
      },
      "execution_count": null,
      "outputs": []
    },
    {
      "cell_type": "code",
      "source": [
        "# Run this cell to change directory.\n",
        "\n",
        "%cd iancu_camp202508/py3"
      ],
      "metadata": {
        "id": "IZZcxfOTee3t"
      },
      "execution_count": null,
      "outputs": []
    },
    {
      "cell_type": "markdown",
      "source": [
        "## Exercise 01"
      ],
      "metadata": {
        "id": "_FpG19tacMUJ"
      }
    },
    {
      "cell_type": "code",
      "execution_count": null,
      "metadata": {
        "id": "sYcEslocblKD"
      },
      "outputs": [],
      "source": [
        "# Run this cell to show the source code of the script.\n",
        "\n",
        "!cat camp_202508_py3_00.py"
      ]
    },
    {
      "cell_type": "code",
      "source": [
        "# Run this cell to execute the script.\n",
        "\n",
        "!python3 camp_202508_py3_00.py"
      ],
      "metadata": {
        "id": "LCMFKbfeevfF"
      },
      "execution_count": null,
      "outputs": []
    },
    {
      "cell_type": "code",
      "source": [
        "# Run this cell to show downloaded file.\n",
        "\n",
        "!ls -lF *.data"
      ],
      "metadata": {
        "id": "Va5wMHTxe3-q"
      },
      "execution_count": null,
      "outputs": []
    },
    {
      "cell_type": "code",
      "source": [
        "# Run this cell to print the file \"sample_00.data\".\n",
        "\n",
        "!cat sample_00.data"
      ],
      "metadata": {
        "id": "SqvH5iDtMQEb"
      },
      "execution_count": null,
      "outputs": []
    },
    {
      "cell_type": "markdown",
      "source": [
        "## Exercise 02"
      ],
      "metadata": {
        "id": "Pedn9GcwfJ7F"
      }
    },
    {
      "cell_type": "code",
      "execution_count": null,
      "metadata": {
        "id": "WnPy8xLUfJ7F"
      },
      "outputs": [],
      "source": [
        "# Run this cell to show the source code of the script.\n",
        "\n",
        "!cat camp_202508_py3_01.py"
      ]
    },
    {
      "cell_type": "code",
      "source": [
        "# Run this cell to execute the script.\n",
        "\n",
        "!python3 camp_202508_py3_01.py"
      ],
      "metadata": {
        "id": "wYfh-hw6fJ7G"
      },
      "execution_count": null,
      "outputs": []
    },
    {
      "cell_type": "markdown",
      "source": [
        "## Exercise 03"
      ],
      "metadata": {
        "id": "uk3kJWFFfQim"
      }
    },
    {
      "cell_type": "code",
      "execution_count": null,
      "metadata": {
        "id": "tCoIuCsgfQim"
      },
      "outputs": [],
      "source": [
        "# Run this cell to show the source code of the script.\n",
        "\n",
        "!cat camp_202508_py3_02.py"
      ]
    },
    {
      "cell_type": "code",
      "source": [
        "# Run this cell to execute the script.\n",
        "\n",
        "!python3 camp_202508_py3_02.py"
      ],
      "metadata": {
        "id": "DyLzMRPjfQim"
      },
      "execution_count": null,
      "outputs": []
    },
    {
      "cell_type": "code",
      "source": [
        "# Run this cell to show downloaded file.\n",
        "\n",
        "!ls -lF *.data"
      ],
      "metadata": {
        "id": "N11wC4GmfQin"
      },
      "execution_count": null,
      "outputs": []
    },
    {
      "cell_type": "code",
      "source": [
        "# Run this cell to print the file \"sample_01.data\".\n",
        "\n",
        "!cat sample_01.data"
      ],
      "metadata": {
        "id": "f9mGlD84MZDf"
      },
      "execution_count": null,
      "outputs": []
    },
    {
      "cell_type": "markdown",
      "source": [
        "## Exercise 04"
      ],
      "metadata": {
        "id": "3_wb8bwTfZtL"
      }
    },
    {
      "cell_type": "code",
      "execution_count": null,
      "metadata": {
        "id": "KCWtCX-3fZtL"
      },
      "outputs": [],
      "source": [
        "# Run this cell to show the source code of the script.\n",
        "\n",
        "!cat camp_202508_py3_03.py"
      ]
    },
    {
      "cell_type": "code",
      "source": [
        "# Run this cell to execute the script.\n",
        "\n",
        "!python3 camp_202508_py3_03.py"
      ],
      "metadata": {
        "id": "pNo29KKVfZtL"
      },
      "execution_count": null,
      "outputs": []
    },
    {
      "cell_type": "code",
      "source": [
        "# Run this cell to find newly created file.\n",
        "\n",
        "!ls -lF *.data"
      ],
      "metadata": {
        "id": "aemfI4HbjkBB"
      },
      "execution_count": null,
      "outputs": []
    },
    {
      "cell_type": "code",
      "source": [
        "# Run this cell to print the file \"hr.data\".\n",
        "\n",
        "!cat hr.data"
      ],
      "metadata": {
        "id": "WcS7hRACMhth"
      },
      "execution_count": null,
      "outputs": []
    },
    {
      "cell_type": "markdown",
      "source": [
        "## Exercise 05"
      ],
      "metadata": {
        "id": "L8-_Krq6wwLw"
      }
    },
    {
      "cell_type": "code",
      "execution_count": null,
      "metadata": {
        "id": "6dgpL7POwwL0"
      },
      "outputs": [],
      "source": [
        "# Run this cell to show the source code of the script.\n",
        "\n",
        "!cat camp_202508_py3_04.py"
      ]
    },
    {
      "cell_type": "code",
      "source": [
        "# Run this cell to execute the script.\n",
        "\n",
        "!python3 camp_202508_py3_04.py"
      ],
      "metadata": {
        "id": "_F9Tk2RZwwL3"
      },
      "execution_count": null,
      "outputs": []
    },
    {
      "cell_type": "code",
      "source": [
        "# Run this cell to find newly created file.\n",
        "\n",
        "!ls -lF *.png"
      ],
      "metadata": {
        "id": "_FLcSRqKwwL4"
      },
      "execution_count": null,
      "outputs": []
    },
    {
      "cell_type": "code",
      "source": [
        "# Run this cell to display an image file.\n",
        "\n",
        "# importing ipython module\n",
        "import IPython.display\n",
        "\n",
        "# displaying an image\n",
        "IPython.display.Image ('hr.png')"
      ],
      "metadata": {
        "id": "fg29IoAwxBb5"
      },
      "execution_count": null,
      "outputs": []
    },
    {
      "cell_type": "markdown",
      "source": [
        "## Exercise 06"
      ],
      "metadata": {
        "id": "6oN3Q2VMMsXc"
      }
    },
    {
      "cell_type": "code",
      "execution_count": null,
      "metadata": {
        "id": "hg8FeklVMx0Q"
      },
      "outputs": [],
      "source": [
        "# Run this cell to show the source code of the script.\n",
        "\n",
        "!cat camp_202508_py3_05.py"
      ]
    },
    {
      "cell_type": "code",
      "source": [
        "# Run this cell to execute the script.\n",
        "\n",
        "!python3 camp_202508_py3_05.py"
      ],
      "metadata": {
        "id": "okI_33aGMx0T"
      },
      "execution_count": null,
      "outputs": []
    },
    {
      "cell_type": "code",
      "source": [
        "# Run this cell to find newly created file.\n",
        "\n",
        "!ls -lF *.gz"
      ],
      "metadata": {
        "id": "J5ao6NAIM3oc"
      },
      "execution_count": null,
      "outputs": []
    },
    {
      "cell_type": "markdown",
      "source": [
        "## Exercise 07"
      ],
      "metadata": {
        "id": "kyXBNnNvM_3z"
      }
    },
    {
      "cell_type": "code",
      "execution_count": null,
      "metadata": {
        "id": "C9RvnF6KM_30"
      },
      "outputs": [],
      "source": [
        "# Run this cell to show the source code of the script.\n",
        "\n",
        "!cat camp_202508_py3_06.py"
      ]
    },
    {
      "cell_type": "code",
      "source": [
        "# Run this cell to execute the script.\n",
        "\n",
        "!python3 camp_202508_py3_06.py"
      ],
      "metadata": {
        "id": "kd5IGyf8M_32"
      },
      "execution_count": null,
      "outputs": []
    },
    {
      "cell_type": "code",
      "source": [
        "# Run this cell to find newly created file.\n",
        "\n",
        "!ls -lF *.data"
      ],
      "metadata": {
        "id": "eYJ5-9EuNKqz"
      },
      "execution_count": null,
      "outputs": []
    },
    {
      "cell_type": "code",
      "source": [
        "# Run this cell to print the first 20 lines of the file \"co.data\".\n",
        "\n",
        "!head -20 co.data"
      ],
      "metadata": {
        "id": "FUGsgjUaNFDR"
      },
      "execution_count": null,
      "outputs": []
    },
    {
      "cell_type": "markdown",
      "source": [
        "## Exercise 08"
      ],
      "metadata": {
        "id": "GzhWerOaNhBZ"
      }
    },
    {
      "cell_type": "code",
      "execution_count": null,
      "metadata": {
        "id": "J3a-OCSJNhBe"
      },
      "outputs": [],
      "source": [
        "# Run this cell to show the source code of the script.\n",
        "\n",
        "!cat camp_202508_py3_07.py"
      ]
    },
    {
      "cell_type": "code",
      "source": [
        "# Run this cell to execute the script.\n",
        "\n",
        "!python3 camp_202508_py3_07.py"
      ],
      "metadata": {
        "id": "sERze8HhNhBh"
      },
      "execution_count": null,
      "outputs": []
    },
    {
      "cell_type": "code",
      "source": [
        "# Run this cell to find newly created file.\n",
        "\n",
        "!ls -lF *.data"
      ],
      "metadata": {
        "id": "xGnUPZIhNqPv"
      },
      "execution_count": null,
      "outputs": []
    },
    {
      "cell_type": "code",
      "source": [
        "# Run this cell to print the first 20 lines of the file \"co.data\".\n",
        "\n",
        "!head -20 co2.data"
      ],
      "metadata": {
        "id": "WyIeVNX-NqP4"
      },
      "execution_count": null,
      "outputs": []
    },
    {
      "cell_type": "markdown",
      "source": [
        "## Exercise 09"
      ],
      "metadata": {
        "id": "XtYgmLq1Nv5R"
      }
    },
    {
      "cell_type": "code",
      "execution_count": null,
      "metadata": {
        "id": "CvIJGNHkNv5U"
      },
      "outputs": [],
      "source": [
        "# Run this cell to show the source code of the script.\n",
        "\n",
        "!cat camp_202508_py3_08.py"
      ]
    },
    {
      "cell_type": "code",
      "source": [
        "# Run this cell to execute the script.\n",
        "\n",
        "!python3 camp_202508_py3_08.py"
      ],
      "metadata": {
        "id": "tX9aqQngNv5V"
      },
      "execution_count": null,
      "outputs": []
    },
    {
      "cell_type": "code",
      "source": [
        "# Run this cell to find newly created file.\n",
        "\n",
        "!ls -lF *.png"
      ],
      "metadata": {
        "id": "GmQBDWKWN1lQ"
      },
      "execution_count": null,
      "outputs": []
    },
    {
      "cell_type": "code",
      "source": [
        "# Run this cell to display an image file.\n",
        "\n",
        "# importing ipython module\n",
        "import IPython.display\n",
        "\n",
        "# displaying an image\n",
        "IPython.display.Image ('clouds.png')"
      ],
      "metadata": {
        "id": "sDLzrIacN1lS"
      },
      "execution_count": null,
      "outputs": []
    },
    {
      "cell_type": "markdown",
      "source": [
        "## End of this notebook"
      ],
      "metadata": {
        "id": "hmAfDaG3N9ks"
      }
    },
    {
      "cell_type": "code",
      "source": [],
      "metadata": {
        "id": "pnsZ-Sv9fB9H"
      },
      "execution_count": null,
      "outputs": []
    }
  ]
}